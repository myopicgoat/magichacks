{
 "cells": [
  {
   "cell_type": "code",
   "execution_count": 50,
   "metadata": {
    "collapsed": true
   },
   "outputs": [],
   "source": [
    "#<cca>\n",
    "execfile(\"cca_editing_library.py\")\n",
    "_sw = \"STUDENT\" # execute+write\n",
    "#</cca>"
   ]
  },
  {
   "cell_type": "code",
   "execution_count": 51,
   "metadata": {
    "collapsed": false
   },
   "outputs": [],
   "source": [
    "%%write2file scripts/blah.py _sw\n",
    "\n",
    "# How would you compute the first five powers of\n",
    "a = 5\n",
    "\n",
    "# Your solution here ... \n",
    "\n",
    "#<cca>\n",
    "f = lambda v: [v**i for i in range(0,5)]\n",
    "print(f(a))\n",
    "#</cca>\n",
    "\n",
    "print(\"well done\")"
   ]
  },
  {
   "cell_type": "code",
   "execution_count": 52,
   "metadata": {
    "collapsed": false
   },
   "outputs": [
    {
     "name": "stdout",
     "output_type": "stream",
     "text": [
      "12\n"
     ]
    }
   ],
   "source": [
    "# another question here\n",
    "\n",
    "#<cca>\n",
    "a = 5+7\n",
    "print(a)\n",
    "#</cca>"
   ]
  },
  {
   "cell_type": "code",
   "execution_count": null,
   "metadata": {
    "collapsed": true
   },
   "outputs": [],
   "source": []
  }
 ],
 "metadata": {
  "anaconda-cloud": {},
  "kernelspec": {
   "display_name": "Python [Root]",
   "language": "python",
   "name": "Python [Root]"
  },
  "language_info": {
   "codemirror_mode": {
    "name": "ipython",
    "version": 2
   },
   "file_extension": ".py",
   "mimetype": "text/x-python",
   "name": "python",
   "nbconvert_exporter": "python",
   "pygments_lexer": "ipython2",
   "version": "2.7.12"
  }
 },
 "nbformat": 4,
 "nbformat_minor": 0
}
